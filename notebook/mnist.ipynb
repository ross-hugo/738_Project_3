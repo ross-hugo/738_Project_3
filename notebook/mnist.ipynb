{
 "cells": [
  {
   "cell_type": "code",
   "execution_count": 1,
   "id": "6a65fda6",
   "metadata": {},
   "outputs": [
    {
     "name": "stdout",
     "output_type": "stream",
     "text": [
      "/Users/rosscopeland/Desktop/school/Machine_Learning_738/projects/738_Project_3\n"
     ]
    }
   ],
   "source": [
    "import os\n",
    "os.chdir(\"..\")\n",
    "print(os.getcwd())"
   ]
  },
  {
   "cell_type": "code",
   "execution_count": 2,
   "id": "291f7729",
   "metadata": {},
   "outputs": [],
   "source": [
    "import numpy as np\n",
    "from mnist.loader import MNIST\n",
    "\n",
    "from script.nn import NN"
   ]
  },
  {
   "cell_type": "code",
   "execution_count": 3,
   "id": "f4216171",
   "metadata": {},
   "outputs": [],
   "source": [
    "mndata = MNIST('data/mnist/')\n",
    "mndata.gz = True\n",
    "train_input, train_output = mndata.load_training()\n",
    "test_input, test_output = mndata.load_testing()"
   ]
  },
  {
   "cell_type": "code",
   "execution_count": 8,
   "id": "f408cf85",
   "metadata": {},
   "outputs": [],
   "source": [
    "in_nodes = 784\n",
    "out_nodes = 10\n",
    "\n",
    "hidden_layers = [50]\n",
    "\n",
    "nn = NN(in_nodes, out_nodes, hidden_layers)"
   ]
  },
  {
   "cell_type": "code",
   "execution_count": 9,
   "id": "f45ad3ca",
   "metadata": {},
   "outputs": [
    {
     "data": {
      "application/vnd.jupyter.widget-view+json": {
       "model_id": "10846119459d47c6bc9444f425170098",
       "version_major": 2,
       "version_minor": 0
      },
      "text/plain": [
       "  0%|          | 0/4000 [00:00<?, ?it/s]"
      ]
     },
     "metadata": {},
     "output_type": "display_data"
    },
    {
     "name": "stdout",
     "output_type": "stream",
     "text": [
      "Train accuracy: 0.984375\n"
     ]
    }
   ],
   "source": [
    "n_epochs = 4000\n",
    "batch_size = 1024\n",
    "\n",
    "learning_step = 1\n",
    "\n",
    "# train the network\n",
    "# n.train(X=train_input, y=train_output, epochs=n_epochs, batch_size=batch_size)\n",
    "nn.train(train_input, train_output, n_epochs, batch_size, learning_step)"
   ]
  },
  {
   "cell_type": "code",
   "execution_count": 10,
   "id": "06725275",
   "metadata": {},
   "outputs": [
    {
     "data": {
      "application/vnd.jupyter.widget-view+json": {
       "model_id": "fe18c997b2034b129dc520b0afaa4a0b",
       "version_major": 2,
       "version_minor": 0
      },
      "text/plain": [
       "  0%|          | 0/10000 [00:00<?, ?it/s]"
      ]
     },
     "metadata": {},
     "output_type": "display_data"
    },
    {
     "name": "stdout",
     "output_type": "stream",
     "text": [
      "Test accuracy: 0.9595\n"
     ]
    }
   ],
   "source": [
    "nn.test(test_input, test_output)"
   ]
  },
  {
   "cell_type": "code",
   "execution_count": null,
   "id": "13807ca3",
   "metadata": {},
   "outputs": [],
   "source": []
  }
 ],
 "metadata": {
  "kernelspec": {
   "display_name": "Python 3.9.4 64-bit",
   "language": "python",
   "name": "python39464bit685e0758a94c4aee86746fae8254c9da"
  },
  "language_info": {
   "codemirror_mode": {
    "name": "ipython",
    "version": 3
   },
   "file_extension": ".py",
   "mimetype": "text/x-python",
   "name": "python",
   "nbconvert_exporter": "python",
   "pygments_lexer": "ipython3",
   "version": "3.9.4"
  }
 },
 "nbformat": 4,
 "nbformat_minor": 5
}
